{
 "cells": [
  {
   "cell_type": "markdown",
   "source": [
    "# Receiver Denosing Experiment\n",
    "\n",
    "In this notebook, I aim to simulate simple communication between 1 tx and 1 rx with noise inbetween and train an AutoEncoderDecoder to denoise it."
   ],
   "metadata": {
    "collapsed": false
   }
  },
  {
   "cell_type": "code",
   "execution_count": 1,
   "outputs": [
    {
     "name": "stderr",
     "output_type": "stream",
     "text": [
      "/Users/wit/DataspellProjects/wireless_study/.wireless_env/lib/python3.8/site-packages/urllib3/__init__.py:34: NotOpenSSLWarning: urllib3 v2 only supports OpenSSL 1.1.1+, currently the 'ssl' module is compiled with 'LibreSSL 2.8.3'. See: https://github.com/urllib3/urllib3/issues/3020\n",
      "  warnings.warn(\n"
     ]
    }
   ],
   "source": [
    "import numpy as np\n",
    "import tensorflow as tf\n",
    "\n",
    "import math\n",
    "from pyphysim.modulators.fundamental import BPSK, QAM, Modulator\n",
    "from pyphysim.simulations import Result, SimulationResults, SimulationRunner\n",
    "from pyphysim.util.conversion import dB2Linear\n",
    "from pyphysim.util.misc import randn_c, count_bit_errors\n",
    "import matplotlib.pyplot as plt\n",
    "from sklearn.preprocessing import MinMaxScaler\n",
    "from sklearn.datasets import load_iris\n",
    "from sklearn.metrics import confusion_matrix, accuracy_score, classification_report\n",
    "from sklearn.preprocessing import StandardScaler\n",
    "from sklearn.model_selection import train_test_split\n",
    "from keras.models import Sequential\n",
    "from keras.layers import Dense\n",
    "from keras.callbacks import EarlyStopping\n",
    "\n",
    "from scipy.fft import fft, ifft"
   ],
   "metadata": {
    "collapsed": false
   }
  },
  {
   "cell_type": "markdown",
   "source": [
    "# Simple denoising"
   ],
   "metadata": {
    "collapsed": false
   }
  },
  {
   "cell_type": "code",
   "execution_count": 2,
   "outputs": [],
   "source": [
    "def low_pass_filter(signal, cutoff_frequency, sampling_rate):\n",
    "    # Fourier transform of the signal\n",
    "    signal_fft = fft(signal)\n",
    "    # Create a mask with True values only for frequencies lower than the cutoff\n",
    "    frequency = np.linspace(0, sampling_rate, len(signal))\n",
    "    mask = frequency <= cutoff_frequency\n",
    "    # Apply the mask to the Fourier transformed signal\n",
    "    filtered_fft = signal_fft * mask\n",
    "    # Inverse Fourier transform to get the filtered signal\n",
    "    filtered_signal = ifft(filtered_fft)\n",
    "    return filtered_signal.real\n",
    "\n",
    "def moving_average_filter(signal, window_size):\n",
    "    cumsum_vec = np.cumsum(np.insert(signal, 0, 0))\n",
    "    ma_filtered_signal = (cumsum_vec[window_size:] - cumsum_vec[:-window_size]) / window_size\n",
    "    return ma_filtered_signal\n"
   ],
   "metadata": {
    "collapsed": false
   }
  },
  {
   "cell_type": "code",
   "execution_count": 206,
   "outputs": [],
   "source": [
    "def complex_to_mag_phase(data):\n",
    "    # Calculate magnitude and phase for each complex number\n",
    "    magnitude = np.abs(data)  # Magnitude\n",
    "    phase = np.angle(data)    # Phase\n",
    "\n",
    "    # Reshape the arrays and combine them\n",
    "    combined = np.concatenate([magnitude.reshape(-1, 1), phase.reshape(-1, 1)], axis=1).reshape(data.shape[0], data.shape[1]*2)\n",
    "    return combined\n",
    "\n",
    "def mag_phase_to_complex(data):\n",
    "    magnitude = data[:, 0]\n",
    "    phase = data[:, 1]\n",
    "    complex_data = magnitude * (np.cos(phase) + 1j * np.sin(phase))\n",
    "    return complex_data\n",
    "\n",
    "\n",
    "def complex_to_real_modified(data):\n",
    "    # this will transform complex number to [real1, img1, real2, img2, etc]\n",
    "    shape = data.shape\n",
    "    real_part = data.real.reshape(shape[0], -1, 1)\n",
    "    imag_part = data.imag.reshape(shape[0], -1, 1)\n",
    "    combined = np.concatenate([real_part, imag_part], axis=2)\n",
    "    return combined.reshape(shape[0], -1)\n",
    "\n",
    "def real_to_complex_modified(data):\n",
    "    # this will transform [real1, img1, real2, img2, etc] back to [complex1, complex2, ...]\n",
    "    shape = data.shape\n",
    "    reshaped = data.reshape(shape[0], -1, 2)\n",
    "    complex_data = reshaped[:, :, 0] + 1j * reshaped[:, :, 1]\n",
    "    return complex_data\n",
    "\n",
    "def reshape_for_chunks(data, chunk_size):\n",
    "    shape = data.shape\n",
    "    reshaped = data.reshape((shape[0]*(shape[1]//chunk_size)), chunk_size)\n",
    "    return reshaped\n",
    "\n",
    "def reshape_back_from_chunks(data, total_samples, num_symbols):\n",
    "    return data.reshape(total_samples, num_symbols)\n",
    "\n",
    "def complex_to_real(data):\n",
    "    # this case will transform complex number to [real1, real2, img1, img2]\n",
    "    real_part = data.real\n",
    "    imag_part = data.imag\n",
    "    return np.concatenate([real_part, imag_part], axis=1)\n",
    "\n",
    "def real_to_complex(data):\n",
    "    # this case will transform real number to [real1, real2, img1, img2] -> [complex numbers]\n",
    "    real_part = data[:, :data.shape[1] // 2]\n",
    "    imag_part = data[:, data.shape[1] // 2:]\n",
    "    return real_part + 1j * imag_part\n",
    "\n",
    "def generate_data(modulator, noise_level, num_symbols):\n",
    "    data = np.random.randint(0, modulator.M, num_symbols)\n",
    "    modulated_data = modulator.modulate(data)\n",
    "    noisy_data = modulated_data + noise_level * randn_c(num_symbols)\n",
    "    return data, modulated_data, noisy_data\n",
    "\n",
    "\n",
    "scaler = MinMaxScaler(feature_range=(-1, 1))\n",
    "\n",
    "# Parameters\n",
    "modulator = QAM(16)\n",
    "noise_level = 0.2\n",
    "num_symbols = 1000\n",
    "chunk_size = 2 # real and img only\n",
    "\n",
    "# Generate Datasets\n",
    "training = [generate_data(modulator, noise_level, num_symbols) for _ in range(5000)]\n",
    "train_unmodulated_y, training_y, training_x  = zip(*training)\n",
    "train_unmodulated_y = np.array(train_unmodulated_y)\n",
    "training_x = np.array(training_x)\n",
    "training_y = np.array(training_y)\n",
    "training_x_real = complex_to_mag_phase(training_x)\n",
    "training_y_real = complex_to_mag_phase(training_y)\n",
    "training_x_real_chunked = reshape_for_chunks(training_x_real, chunk_size)\n",
    "training_y_real_chunked = reshape_for_chunks(training_y_real, chunk_size)\n",
    "training_x_real_chunked_norm = scaler.fit_transform(training_x_real_chunked)\n",
    "training_y_real_chunked_norm = scaler.transform(training_y_real_chunked)\n",
    "\n",
    "\n",
    "testing = [generate_data(modulator, noise_level, num_symbols) for _ in range(2500)]\n",
    "testing_unmodulated_y, testing_y, testing_x = zip(*testing)\n",
    "testing_unmodulated_y = np.array(testing_unmodulated_y)\n",
    "testing_x = np.array(testing_x)\n",
    "testing_y = np.array(testing_y)\n",
    "testing_x_real = complex_to_mag_phase(testing_x)\n",
    "testing_y_real = complex_to_mag_phase(testing_y)\n",
    "testing_x_real_chunked = reshape_for_chunks(testing_x_real, chunk_size)\n",
    "testing_y_real_chunked = reshape_for_chunks(testing_y_real, chunk_size)\n",
    "testing_x_real_chunked_norm = scaler.fit_transform(testing_x_real_chunked)\n",
    "testing_y_real_chunked_norm = scaler.transform(testing_y_real_chunked)"
   ],
   "metadata": {
    "collapsed": false
   }
  },
  {
   "cell_type": "code",
   "execution_count": 210,
   "outputs": [],
   "source": [],
   "metadata": {
    "collapsed": false
   }
  },
  {
   "cell_type": "code",
   "execution_count": 210,
   "outputs": [],
   "source": [],
   "metadata": {
    "collapsed": false
   }
  },
  {
   "cell_type": "code",
   "execution_count": null,
   "outputs": [],
   "source": [],
   "metadata": {
    "collapsed": false
   }
  },
  {
   "cell_type": "code",
   "execution_count": 186,
   "outputs": [],
   "source": [
    "from keras.models import Model\n",
    "from keras.layers import Input, Dense\n",
    "\n",
    "class CustomAutoencoder(Model):\n",
    "    def __init__(self, input_shape):\n",
    "        super(CustomAutoencoder, self).__init__()\n",
    "        initializer = tf.keras.initializers.HeUniform(1)\n",
    "        # Encoder layers\n",
    "        self.encoder = tf.keras.Sequential([\n",
    "            Input(shape=(input_shape,)),\n",
    "            # Dense(2, activation='leaky_relu', kernel_initializer=initializer),\n",
    "        ])\n",
    "        # Bottleneck\n",
    "        self.bottleneck = Dense(16, activation='relu', kernel_initializer=initializer)\n",
    "        # Decoder layers\n",
    "        self.decoder = tf.keras.Sequential([\n",
    "            # Dense(2, activation='leaky_relu', kernel_initializer=initializer),\n",
    "            Dense(input_shape, activation='tanh', kernel_initializer=initializer)\n",
    "        ])\n",
    "\n",
    "    def call(self, inputs, training=None, mask=None):\n",
    "        # Encoder\n",
    "        x = self.encoder(inputs)\n",
    "        # Bottleneck\n",
    "        x = self.bottleneck(x)\n",
    "        # Decoder\n",
    "        x = self.decoder(x)\n",
    "        return x\n"
   ],
   "metadata": {
    "collapsed": false
   }
  },
  {
   "cell_type": "code",
   "execution_count": 211,
   "outputs": [
    {
     "name": "stdout",
     "output_type": "stream",
     "text": [
      "Epoch 1/100\n",
      "15625/15625 [==============================] - 7s 460us/step - loss: 0.0625 - val_loss: 0.0521\n",
      "Epoch 2/100\n",
      "15625/15625 [==============================] - 6s 394us/step - loss: 0.0495 - val_loss: 0.0451\n",
      "Epoch 3/100\n",
      "15625/15625 [==============================] - 6s 399us/step - loss: 0.0447 - val_loss: 0.0445\n",
      "Epoch 4/100\n",
      "15625/15625 [==============================] - 7s 455us/step - loss: 0.0444 - val_loss: 0.0444\n",
      "Epoch 5/100\n",
      "15625/15625 [==============================] - 7s 451us/step - loss: 0.0443 - val_loss: 0.0441\n",
      "Epoch 6/100\n",
      "15625/15625 [==============================] - 6s 413us/step - loss: 0.0441 - val_loss: 0.0440\n",
      "Epoch 7/100\n",
      "15625/15625 [==============================] - 6s 381us/step - loss: 0.0440 - val_loss: 0.0439\n",
      "Epoch 8/100\n",
      "15625/15625 [==============================] - 6s 403us/step - loss: 0.0439 - val_loss: 0.0439\n",
      "Epoch 9/100\n",
      "15625/15625 [==============================] - 6s 395us/step - loss: 0.0437 - val_loss: 0.0434\n",
      "Epoch 10/100\n",
      "15625/15625 [==============================] - 6s 379us/step - loss: 0.0432 - val_loss: 0.0431\n",
      "Epoch 11/100\n",
      "15625/15625 [==============================] - 10s 617us/step - loss: 0.0431 - val_loss: 0.0431\n",
      "Epoch 12/100\n",
      "15625/15625 [==============================] - 9s 565us/step - loss: 0.0430 - val_loss: 0.0429\n",
      "Epoch 13/100\n",
      "15625/15625 [==============================] - 7s 417us/step - loss: 0.0429 - val_loss: 0.0429\n",
      "Epoch 14/100\n",
      "15625/15625 [==============================] - 6s 385us/step - loss: 0.0429 - val_loss: 0.0428\n",
      "Epoch 15/100\n",
      "15625/15625 [==============================] - 8s 490us/step - loss: 0.0428 - val_loss: 0.0428\n",
      "Epoch 16/100\n",
      "15625/15625 [==============================] - 6s 402us/step - loss: 0.0428 - val_loss: 0.0428\n",
      "Epoch 17/100\n",
      "15625/15625 [==============================] - 6s 381us/step - loss: 0.0428 - val_loss: 0.0428\n",
      "Epoch 18/100\n",
      "15625/15625 [==============================] - 6s 371us/step - loss: 0.0428 - val_loss: 0.0427\n",
      "Epoch 19/100\n",
      "15625/15625 [==============================] - 6s 368us/step - loss: 0.0427 - val_loss: 0.0427\n",
      "Epoch 20/100\n",
      "15625/15625 [==============================] - 6s 370us/step - loss: 0.0427 - val_loss: 0.0427\n",
      "Epoch 21/100\n",
      "15625/15625 [==============================] - 7s 443us/step - loss: 0.0427 - val_loss: 0.0428\n",
      "Epoch 22/100\n",
      "15625/15625 [==============================] - 6s 379us/step - loss: 0.0427 - val_loss: 0.0427\n",
      "Epoch 23/100\n",
      "15625/15625 [==============================] - 6s 375us/step - loss: 0.0427 - val_loss: 0.0427\n",
      "Epoch 24/100\n",
      "15625/15625 [==============================] - 6s 369us/step - loss: 0.0427 - val_loss: 0.0427\n"
     ]
    }
   ],
   "source": [
    "early_stopping_monitor = EarlyStopping(\n",
    "    monitor='val_loss',\n",
    "    min_delta=0,\n",
    "    patience=5,\n",
    "    verbose=0,\n",
    "    mode='auto',\n",
    "    baseline=None,\n",
    "    restore_best_weights=True\n",
    ")\n",
    "callbacks = [early_stopping_monitor]\n",
    "# Define the autoencoder architecture\n",
    "# input_signal = tf.keras.layers.Input(shape=(2 * num_symbols,))\n",
    "# encoded = tf.keras.layers.Dense(128, activation='relu')(input_signal)  # Increased size\n",
    "# decoded = tf.keras.layers.Dense(2 * num_symbols, activation='tanh')(encoded)  # Output size doubled\n",
    "# autoencoder = tf.keras.models.Model(inputs=input_signal, outputs=decoded)\n",
    "autoencoder = CustomAutoencoder(chunk_size)\n",
    "optimizer = tf.keras.optimizers.legacy.Adam(learning_rate=0.0005)\n",
    "# Compile and train the model\n",
    "autoencoder.compile(optimizer=optimizer,\n",
    "                    loss='mean_absolute_error')\n",
    "history = autoencoder.fit(training_x_real_chunked_norm,\n",
    "                          training_y_real_chunked_norm,\n",
    "                          epochs=100,\n",
    "                          batch_size=256,\n",
    "                          validation_split=0.2,\n",
    "                          callbacks=callbacks)"
   ],
   "metadata": {
    "collapsed": false
   }
  },
  {
   "cell_type": "code",
   "execution_count": 212,
   "outputs": [
    {
     "data": {
      "text/plain": "<Figure size 640x480 with 1 Axes>",
      "image/png": "[encoded data removed]"
     },
     "metadata": {},
     "output_type": "display_data"
    }
   ],
   "source": [
    "loss = history.history['loss']\n",
    "val_loss = history.history['val_loss']\n",
    "\n",
    "# plot losses\n",
    "plt.figure()\n",
    "plt.plot(loss, label='train')\n",
    "plt.plot(val_loss, label='validation')\n",
    "plt.title('loss function')\n",
    "plt.legend()\n",
    "plt.show(block=False)"
   ],
   "metadata": {
    "collapsed": false
   }
  },
  {
   "cell_type": "code",
   "execution_count": 193,
   "outputs": [],
   "source": [
    "def calculate_ber(original_data, received_data, modulator):\n",
    "    demodulated_data = modulator.demodulate(received_data)\n",
    "    bit_errors = count_bit_errors(original_data, demodulated_data)\n",
    "    # total_bits = original_data.size * np.log2(modulator.M)\n",
    "    return bit_errors\n",
    "\n",
    "def symbol_errors(original_data, demodulated_data):\n",
    "    return sum(demodulated_data != original_data)\n"
   ],
   "metadata": {
    "collapsed": false
   }
  },
  {
   "cell_type": "code",
   "execution_count": 213,
   "outputs": [],
   "source": [
    "# original ber\n",
    "ber_ori = []\n",
    "for i in range(testing_x.shape[0]):\n",
    "    ber = calculate_ber(testing_unmodulated_y[i],\n",
    "                        testing_x[i, :],\n",
    "                        modulator)\n",
    "    ber_ori.append(ber)\n",
    "\n",
    "# ber with regular autoencoder-decoder denoiser\n"
   ],
   "metadata": {
    "collapsed": false
   }
  },
  {
   "cell_type": "code",
   "execution_count": 216,
   "outputs": [],
   "source": [
    "# ber with autoencoder-decoder denoiser\n",
    "ber_auto = []\n",
    "# pred_ys = autoencoder.predict(testing_x_real_chunked_norm)\n",
    "pred_ys_imaginary = mag_phase_to_complex(scaler.inverse_transform(pred_ys)).reshape(testing_x_real.shape[0], num_symbols)\n",
    "for i in range(testing_x_real.shape[0]):\n",
    "    ber = calculate_ber(testing_unmodulated_y[i],\n",
    "                        pred_ys_imaginary[i, :], modulator)\n",
    "    ber_auto.append(ber)"
   ],
   "metadata": {
    "collapsed": false
   }
  },
  {
   "cell_type": "code",
   "execution_count": 200,
   "outputs": [
    {
     "data": {
      "text/plain": "array([[ 0.4461559 , -0.57427263],\n       [ 0.99712086,  1.1893501 ],\n       [ 0.99711186,  0.23864456],\n       ...,\n       [ 0.99696594, -1.2664268 ],\n       [ 0.997176  ,  2.6959774 ],\n       [ 0.9971222 ,  2.0604954 ]], dtype=float32)"
     },
     "execution_count": 200,
     "metadata": {},
     "output_type": "execute_result"
    }
   ],
   "source": [
    "reshape_back_from_chunks(scaler.inverse_transform(pred_ys), testing_x_real.shape[0], testing_x_real.shape[1])"
   ],
   "metadata": {
    "collapsed": false
   }
  },
  {
   "cell_type": "code",
   "execution_count": 217,
   "outputs": [
    {
     "name": "stdout",
     "output_type": "stream",
     "text": [
      "37.9608 61.6448\n"
     ]
    }
   ],
   "source": [
    "print(np.mean(ber_ori), np.mean(ber_auto))"
   ],
   "metadata": {
    "collapsed": false
   }
  },
  {
   "cell_type": "markdown",
   "source": [
    "# Rayleigh AWGN simulation training\n"
   ],
   "metadata": {
    "collapsed": false
   }
  },
  {
   "cell_type": "code",
   "execution_count": null,
   "outputs": [],
   "source": [
    "class RayleighOrAwgnSimulatorWithDenoiser(SimulationRunner):\n",
    "\n",
    "    def __init__(self, SINR_dB_values, simulate_with_rayleigh=False):\n",
    "        # If simulate_with_rayleigh is false only AWGN is used\n",
    "        super().__init__()\n",
    "\n",
    "        self._simulate_with_rayleigh = simulate_with_rayleigh\n",
    "\n",
    "        # Add the simulation parameters to the `params` attribute.\n",
    "        self.params.add('EbN0_db', SINR_dB_values)\n",
    "        self.params.set_unpack_parameter('EbN0_db')\n",
    "\n",
    "        # Note that when M=2 BPSK modulation will be used, while other values will use QAM\n",
    "        self.params.add(\"M\", [2, 4, 16, 64, 256])\n",
    "        self.params.set_unpack_parameter('M')\n",
    "\n",
    "        # Number of times the `_run_simulation` method will run when `simulate` method is called.\n",
    "        # We are using a value 100 times larger than before, but the simulation will not take\n",
    "        # 100 times the previous elapsed time to finish thanks to the implementation of the\n",
    "        # `_keep_going` method that will allow us to skip many of these iterations for low EbN0 values\n",
    "        self.rep_max = 50000\n",
    "\n",
    "        # Number of symbols generated for this realization\n",
    "        self.num_symbols = 1000\n",
    "\n",
    "        # Used in the implementation of `_keep_going` method. This is the maximum numbers of symbol\n",
    "        # errors we allow before `_run_simulation` is stoped for a given configuration\n",
    "        self.max_symbol_errors = 1. / 300. * self.num_symbols * self.rep_max\n",
    "\n",
    "        # Set a nice message for the progressbar\n",
    "        self.progressbar_message = f\"Simulating for {self.params.get_num_unpacked_variations()} configurations\"\n",
    "\n",
    "        self.update_progress_function_style = \"text1\"  # \"ipython\"\n",
    "\n",
    "    def generate_dataset(self, num_samples):\n",
    "        # Since EbN0_db is an \"unpacked parameter\" a single value is passed to `_run_simulation`.\n",
    "        # We can get the current value as below\n",
    "        sinr_dB = self.params['EbN0_db']\n",
    "        M = self.params['M']\n",
    "\n",
    "        modulator = BPSK() if M == 2 else QAM(M)\n",
    "\n",
    "        # Find the noise power from the EbN0 value (in dB)\n",
    "        EbN0_linear = dB2Linear(sinr_dB)\n",
    "        snr_linear = EbN0_linear * math.log2(M)\n",
    "        noise_power = 1 / snr_linear\n",
    "        modulated_samples = []\n",
    "        noisy_modulated_samples = []\n",
    "        for i in range(num_samples):\n",
    "            data = np.random.randint(0, modulator.M, size=self.num_symbols)\n",
    "            modulated_data = modulator.modulate(data)\n",
    "            n = math.sqrt(noise_power) * randn_c(self.num_symbols)\n",
    "            if self._simulate_with_rayleigh:\n",
    "                # Rayleigh channel\n",
    "                h = randn_c(modulated_data.size)\n",
    "\n",
    "                # Receive the corrupted data\n",
    "                received_data = h * modulated_data + n\n",
    "\n",
    "                # Equalization\n",
    "                received_data /= h\n",
    "\n",
    "            else:\n",
    "                # Receive the corrupted data\n",
    "                received_data = modulated_data + n\n",
    "\n",
    "            # Demodulate the received data and compute the number of symbol errors\n",
    "            demodulated_data = modulator.demodulate(received_data)\n",
    "            modulated_samples.append(modulated_data)\n",
    "            noisy_modulated_samples.append(received_data)\n",
    "            # symbol_errors = sum(demodulated_data != data)\n",
    "            #\n",
    "            # num_bit_errors = count_bit_errors(data, demodulated_data)\n",
    "        return noisy_modulated_samples, modulated_samples\n",
    "\n",
    "\n",
    "    def _keep_going(self, current_params, current_sim_results, current_rep):\n",
    "        # Note that we have added a \"symbol_errors\" result in `_run_simulation` to use here\n",
    "\n",
    "        # Get the last value in the \"symbol_errors\" results list, which corresponds to the current configuration\n",
    "        cumulated_symbol_errors \\\n",
    "            = current_sim_results['symbol_errors'][-1].get_result()\n",
    "        return cumulated_symbol_errors < self.max_symbol_errors\n",
    "\n",
    "\n",
    "    def _run_simulation(self, current_parameters):\n",
    "        # Since EbN0_db is an \"unpacked parameter\" a single value is passed to `_run_simulation`.\n",
    "        # We can get the current value as below\n",
    "        sinr_dB = current_parameters['EbN0_db']\n",
    "        M = current_parameters['M']\n",
    "\n",
    "        modulator = BPSK() if M == 2 else QAM(M)\n",
    "\n",
    "        # Find the noise power from the EbN0 value (in dB)\n",
    "        EbN0_linear = dB2Linear(sinr_dB)\n",
    "        snr_linear = EbN0_linear * math.log2(M)\n",
    "        noise_power = 1 / snr_linear\n",
    "\n",
    "        # Generate random transmit data and modulate it\n",
    "        data = np.random.randint(0, modulator.M, size=self.num_symbols)\n",
    "        modulated_data = modulator.modulate(data)\n",
    "\n",
    "        # Noise vector\n",
    "        n = math.sqrt(noise_power) * randn_c(self.num_symbols)\n",
    "\n",
    "        if self._simulate_with_rayleigh:\n",
    "            # Rayleigh channel\n",
    "            h = randn_c(modulated_data.size)\n",
    "\n",
    "            # Receive the corrupted data\n",
    "            received_data = h * modulated_data + n\n",
    "\n",
    "            # Equalization\n",
    "            received_data /= h\n",
    "\n",
    "        else:\n",
    "            # Receive the corrupted data\n",
    "            received_data = modulated_data + n\n",
    "\n",
    "        # Demodulate the received data and compute the number of symbol errors\n",
    "        demodulated_data = modulator.demodulate(received_data)\n",
    "        symbol_errors = sum(demodulated_data != data)\n",
    "\n",
    "        num_bit_errors = count_bit_errors(data, demodulated_data)\n",
    "\n",
    "        # Create a SimulationResults object and save the symbol error rate.\n",
    "        # Note that the symbol error rate is given by the number of symbol errors divided by the number of\n",
    "        # transmited symbols. We want to combine the symbol error rate for the many calls of `_run_simulation`.\n",
    "        # Thus, we choose `Result.RATIOTYPE` as the \"update_type\". See the documentation of the `Result` class\n",
    "        # for more about it.\n",
    "        simResults = SimulationResults()\n",
    "        simResults.add_new_result(\"symbol_error_rate\",\n",
    "                                  Result.RATIOTYPE,\n",
    "                                  value=symbol_errors,\n",
    "                                  total=self.num_symbols)\n",
    "        simResults.add_new_result(\"symbol_errors\",\n",
    "                                  Result.SUMTYPE,\n",
    "                                  value=symbol_errors)\n",
    "        simResults.add_new_result(\"num_bit_errors\",\n",
    "                                  Result.SUMTYPE,\n",
    "                                  value=num_bit_errors)\n",
    "        simResults.add_new_result(\"bit_error_rate\",\n",
    "                                  Result.RATIOTYPE,\n",
    "                                  value=num_bit_errors,\n",
    "                                  total=int(np.log2(modulator.M)) * data.size)\n",
    "        return simResults"
   ],
   "metadata": {
    "collapsed": false
   }
  },
  {
   "cell_type": "code",
   "execution_count": null,
   "outputs": [],
   "source": [
    "EbN0_db_awgn = np.linspace(-5, 30, 8)\n",
    "\n",
    "runner_awgn = RayleighOrAwgnSimulatorWithDenoiser(EbN0_db_awgn,\n",
    "                                                  simulate_with_rayleigh=False)\n",
    "runner_awgn.set_results_filename(\"qam_awgn\")\n",
    "print(\"Simulation parameters:\", runner_awgn.params)\n",
    "\n",
    "# runner_awgn.simulate_in_parallel()\n",
    "runner_awgn.simulate()\n",
    "print(runner_awgn.elapsed_time)"
   ],
   "metadata": {
    "collapsed": false
   }
  }
 ],
 "metadata": {
  "kernelspec": {
   "name": "wireless",
   "language": "python",
   "display_name": "wireless"
  },
  "language_info": {
   "codemirror_mode": {
    "name": "ipython",
    "version": 2
   },
   "file_extension": ".py",
   "mimetype": "text/x-python",
   "name": "python",
   "nbconvert_exporter": "python",
   "pygments_lexer": "ipython2",
   "version": "2.7.6"
  }
 },
 "nbformat": 4,
 "nbformat_minor": 0
}
