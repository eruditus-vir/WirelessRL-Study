{
 "cells": [
  {
   "cell_type": "code",
   "execution_count": 4,
   "outputs": [
    {
     "ename": "ModuleNotFoundError",
     "evalue": "No module named 'pyphysim.channels.mimo'",
     "output_type": "error",
     "traceback": [
      "\u001B[0;31m---------------------------------------------------------------------------\u001B[0m",
      "\u001B[0;31mModuleNotFoundError\u001B[0m                       Traceback (most recent call last)",
      "Cell \u001B[0;32mIn[4], line 3\u001B[0m\n\u001B[1;32m      1\u001B[0m \u001B[38;5;66;03m# Import necessary modules from Pyphysim\u001B[39;00m\n\u001B[1;32m      2\u001B[0m \u001B[38;5;28;01mfrom\u001B[39;00m \u001B[38;5;21;01mpyphysim\u001B[39;00m\u001B[38;5;21;01m.\u001B[39;00m\u001B[38;5;21;01mmodulators\u001B[39;00m\u001B[38;5;21;01m.\u001B[39;00m\u001B[38;5;21;01mfundamental\u001B[39;00m \u001B[38;5;28;01mimport\u001B[39;00m QPSK\n\u001B[0;32m----> 3\u001B[0m \u001B[38;5;28;01mfrom\u001B[39;00m \u001B[38;5;21;01mpyphysim\u001B[39;00m\u001B[38;5;21;01m.\u001B[39;00m\u001B[38;5;21;01mchannels\u001B[39;00m\u001B[38;5;21;01m.\u001B[39;00m\u001B[38;5;21;01mmimo\u001B[39;00m \u001B[38;5;28;01mimport\u001B[39;00m RayleighBlockFading\n\u001B[1;32m      4\u001B[0m \u001B[38;5;28;01mfrom\u001B[39;00m \u001B[38;5;21;01mpyphysim\u001B[39;00m\u001B[38;5;21;01m.\u001B[39;00m\u001B[38;5;21;01mutil\u001B[39;00m\u001B[38;5;21;01m.\u001B[39;00m\u001B[38;5;21;01mmisc\u001B[39;00m \u001B[38;5;28;01mimport\u001B[39;00m randn_c, count_bit_errors\n\u001B[1;32m      5\u001B[0m \u001B[38;5;28;01mimport\u001B[39;00m \u001B[38;5;21;01mnumpy\u001B[39;00m \u001B[38;5;28;01mas\u001B[39;00m \u001B[38;5;21;01mnp\u001B[39;00m\n",
      "\u001B[0;31mModuleNotFoundError\u001B[0m: No module named 'pyphysim.channels.mimo'"
     ]
    }
   ],
   "source": [
    "# Import necessary modules from Pyphysim\n",
    "from pyphysim.modulators.fundamental import QPSK\n",
    "from pyphysim.channels.multiuser import MuMimoChannel\n",
    "import numpy as np\n",
    "\n",
    "# Set up simulation parameters\n",
    "n_tx, n_rx = 2, 2  # Number of Tx and Rx antennas\n",
    "bit_length = 100   # Length of the bit sequence for each antenna\n",
    "\n",
    "# Initialize QPSK modulator\n",
    "modulator = QPSK()\n",
    "\n",
    "# Generate random bits and modulate\n",
    "tx_bits = np.random.randint(0, 2, (n_tx, bit_length))\n",
    "tx_symbols = modulator.modulate(tx_bits.ravel()).reshape(n_tx, -1)\n",
    "\n",
    "# Create and apply the MIMO channel\n",
    "channel = MuMimoChannel(1, n_rx, n_tx)\n",
    "H = channel.get_H_matrix()\n",
    "rx_symbols = np.dot(H, tx_symbols) + randn_c(n_rx, tx_symbols.shape[1])\n",
    "\n",
    "# Receiver processing (Zero Forcing for simplicity)\n",
    "H_inv = np.linalg.pinv(H)\n",
    "rx_symbols_equalized = np.dot(H_inv, rx_symbols)\n",
    "\n",
    "# Demodulate and calculate BER\n",
    "rx_bits = modulator.demodulate(rx_symbols_equalized.ravel()).reshape(n_tx, -1)\n",
    "ber = count_bit_errors(tx_bits, rx_bits) / np.prod(tx_bits.shape)\n",
    "\n",
    "print(f\"Bit Error Rate (BER): {ber}\")\n"
   ],
   "metadata": {
    "collapsed": false
   }
  },
  {
   "cell_type": "code",
   "execution_count": null,
   "outputs": [],
   "source": [],
   "metadata": {
    "collapsed": false
   }
  }
 ],
 "metadata": {
  "kernelspec": {
   "name": "wireless",
   "language": "python",
   "display_name": "wireless"
  },
  "language_info": {
   "codemirror_mode": {
    "name": "ipython",
    "version": 2
   },
   "file_extension": ".py",
   "mimetype": "text/x-python",
   "name": "python",
   "nbconvert_exporter": "python",
   "pygments_lexer": "ipython2",
   "version": "2.7.6"
  }
 },
 "nbformat": 4,
 "nbformat_minor": 0
}
